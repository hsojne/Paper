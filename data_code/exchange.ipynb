{
 "cells": [
  {
   "cell_type": "markdown",
   "metadata": {},
   "source": [
    "### Exchange \n",
    "\n",
    "- 1. JP JPY=X\n",
    "- 2. CH CNY=X\n",
    "- 3. CA CAD=X\n",
    "- 4. KR KRW=X\n",
    "- 5. MC MXN=X   \n",
    "- 6. BR BRL=X\n",
    "- 7. EU EUR=X\n",
    "- 8. UK GBP=X\n",
    "- 9. ID INR=X\n",
    "- 10. RU RUB=X\n",
    "- 11. AUD AUD=X\n",
    "- 12. INN IDR=X\n",
    "- 13. SA SAR=X\n",
    "- 14. TR TRY=X\n",
    "- 15. RSA ZAR=X\n",
    "- 16. ND NZD=X\n",
    "- 17. TW TWD=X\n",
    "- 18. HK HKD=X\n",
    "- 19. TAI THB=X\n",
    "- 20. PH PHP=X\n",
    "- 21. CHF=X"
   ]
  },
  {
   "cell_type": "markdown",
   "metadata": {},
   "source": [
    "'JPY=X', 'CNY=X', 'CAD=X', 'KRW=X', 'MXN=X', 'BRL=X', 'GBP=X', 'INR=X', 'EUR=X',\n",
    "                        'RUB=X', 'AUD=X', 'IDR=X', 'SAR=X', 'TRY=X', 'ZAR=X', 'NZD=X', 'TWD=X',\n",
    "                        'HKD=X', 'THB=X', 'PHP=X', 'CHF=X'"
   ]
  },
  {
   "cell_type": "code",
   "execution_count": 1,
   "metadata": {},
   "outputs": [],
   "source": [
    "import numpy as np\n",
    "import pandas as pd\n",
    "import yfinance as yf\n",
    "from datetime import datetime"
   ]
  },
  {
   "cell_type": "code",
   "execution_count": 3,
   "metadata": {},
   "outputs": [
    {
     "name": "stderr",
     "output_type": "stream",
     "text": [
      "[*********************100%***********************]  21 of 21 completed\n"
     ]
    }
   ],
   "source": [
    "raw_data = yf.download(['JPY=X', 'CNY=X', 'CAD=X', 'KRW=X', 'MXN=X', 'BRL=X', 'EUR=X','GBP=X', 'INR=X',\n",
    "                        'RUB=X', 'AUD=X', 'IDR=X', 'SAR=X', 'TRY=X', 'ZAR=X', 'NZD=X', 'TWD=X',\n",
    "                        'HKD=X', 'THB=X', 'PHP=X', 'CHF=X'], start='1990-01-01', end='2024-09-30')"
   ]
  },
  {
   "cell_type": "code",
   "execution_count": 7,
   "metadata": {},
   "outputs": [],
   "source": [
    "exchange = raw_data[[\"Open\", \"High\", \"Low\", \"Close\"]]"
   ]
  },
  {
   "cell_type": "code",
   "execution_count": 9,
   "metadata": {},
   "outputs": [],
   "source": [
    "exchange = exchange.dropna() "
   ]
  },
  {
   "cell_type": "code",
   "execution_count": 12,
   "metadata": {},
   "outputs": [],
   "source": [
    "exchange.index = exchange.index.tz_localize(None)"
   ]
  },
  {
   "cell_type": "code",
   "execution_count": 13,
   "metadata": {},
   "outputs": [],
   "source": [
    "exchange.to_excel(\"exchange.xlsx\")"
   ]
  }
 ],
 "metadata": {
  "kernelspec": {
   "display_name": "Python 3",
   "language": "python",
   "name": "python3"
  },
  "language_info": {
   "codemirror_mode": {
    "name": "ipython",
    "version": 3
   },
   "file_extension": ".py",
   "mimetype": "text/x-python",
   "name": "python",
   "nbconvert_exporter": "python",
   "pygments_lexer": "ipython3",
   "version": "3.10.11"
  }
 },
 "nbformat": 4,
 "nbformat_minor": 2
}
