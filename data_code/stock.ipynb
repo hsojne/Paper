{
 "cells": [
  {
   "cell_type": "markdown",
   "metadata": {},
   "source": [
    "### 20 Country Stock"
   ]
  },
  {
   "cell_type": "markdown",
   "metadata": {},
   "source": [
    "- 1. USA ^GSPC\n",
    "- 2. UK ^FTSE\n",
    "- 3. GER ^GDAXI\n",
    "- 4. FRA ^FCHI\n",
    "- 5. JAP ^N225\n",
    "- 6. AUS ^AXJO\n",
    "- 7. HKG ^HSI\n",
    "- 8. CHN 000001.SS\n",
    "- 9. IND ^BSESN\n",
    "- 10. BRA ^BVSP\n",
    "- 11. KOR ^KS11\n",
    "- 12. MYS ^KLSE \n",
    "- 13. PHL PSEI.PS\n",
    "- 14. SGP ^STI\n",
    "- 15. TAI ^TWII\n",
    "- 16. THA ^SET.BK\n",
    "- 17. ARG ^MERV\n",
    "- 18. MEX ^MXX\n",
    "- 19. CHL ^IPSA\n",
    "- 20. TUR XU100.IS\n",
    "\n"
   ]
  },
  {
   "cell_type": "code",
   "execution_count": 167,
   "metadata": {},
   "outputs": [],
   "source": [
    "import numpy as np\n",
    "import pandas as pd\n",
    "import yfinance as yf\n",
    "from datetime import datetime"
   ]
  },
  {
   "cell_type": "code",
   "execution_count": 96,
   "metadata": {},
   "outputs": [
    {
     "name": "stderr",
     "output_type": "stream",
     "text": [
      "[*********************100%***********************]  19 of 19 completed\n"
     ]
    }
   ],
   "source": [
    "raw_data = yf.download([\"^GSPC\", \"^FTSE\", \"^GDAXI\", \"^FCHI\", \"^N225\", \"^AXJO\", \"^HSI\", \"000001.SS\", \"^BSESN\", \"^BVSP\", \"^KS11\",\n",
    "                \"^KLSE\", \"PSEI.PS\", \"^STI\", \"^TWII\", \"^SET.BK\",  \"^MERV\", \"^MXX\", \"XU100.IS\"], start='1990-01-01', end='2024-09-30')"
   ]
  },
  {
   "cell_type": "code",
   "execution_count": 102,
   "metadata": {},
   "outputs": [],
   "source": [
    "raw_data.index = raw_data.index.tz_localize(None)"
   ]
  },
  {
   "cell_type": "code",
   "execution_count": 104,
   "metadata": {},
   "outputs": [],
   "source": [
    "data = raw_data[[\"Close\", \"Open\", \"High\", \"Low\"]]"
   ]
  },
  {
   "cell_type": "code",
   "execution_count": 105,
   "metadata": {},
   "outputs": [],
   "source": [
    "data = data.dropna()"
   ]
  },
  {
   "cell_type": "code",
   "execution_count": 107,
   "metadata": {},
   "outputs": [],
   "source": [
    "data.to_excel(\"total.xlsx\")"
   ]
  },
  {
   "cell_type": "code",
   "execution_count": 217,
   "metadata": {},
   "outputs": [
    {
     "name": "stderr",
     "output_type": "stream",
     "text": [
      "[*********************100%***********************]  1 of 1 completed\n"
     ]
    }
   ],
   "source": [
    "AUS = yf.download(\"^AXJO\", start=\"1990-01-01\", end=\"2024-09-12\")"
   ]
  },
  {
   "cell_type": "code",
   "execution_count": 219,
   "metadata": {},
   "outputs": [
    {
     "data": {
      "text/html": [
       "<div>\n",
       "<style scoped>\n",
       "    .dataframe tbody tr th:only-of-type {\n",
       "        vertical-align: middle;\n",
       "    }\n",
       "\n",
       "    .dataframe tbody tr th {\n",
       "        vertical-align: top;\n",
       "    }\n",
       "\n",
       "    .dataframe thead th {\n",
       "        text-align: right;\n",
       "    }\n",
       "</style>\n",
       "<table border=\"1\" class=\"dataframe\">\n",
       "  <thead>\n",
       "    <tr style=\"text-align: right;\">\n",
       "      <th></th>\n",
       "      <th>Open</th>\n",
       "      <th>High</th>\n",
       "      <th>Low</th>\n",
       "      <th>Close</th>\n",
       "      <th>Adj Close</th>\n",
       "      <th>Volume</th>\n",
       "    </tr>\n",
       "    <tr>\n",
       "      <th>Date</th>\n",
       "      <th></th>\n",
       "      <th></th>\n",
       "      <th></th>\n",
       "      <th></th>\n",
       "      <th></th>\n",
       "      <th></th>\n",
       "    </tr>\n",
       "  </thead>\n",
       "  <tbody>\n",
       "    <tr>\n",
       "      <th>1992-11-23</th>\n",
       "      <td>1455.000000</td>\n",
       "      <td>1455.000000</td>\n",
       "      <td>1455.000000</td>\n",
       "      <td>1455.000000</td>\n",
       "      <td>1455.000000</td>\n",
       "      <td>0</td>\n",
       "    </tr>\n",
       "    <tr>\n",
       "      <th>1992-11-24</th>\n",
       "      <td>1458.400024</td>\n",
       "      <td>1458.400024</td>\n",
       "      <td>1458.400024</td>\n",
       "      <td>1458.400024</td>\n",
       "      <td>1458.400024</td>\n",
       "      <td>0</td>\n",
       "    </tr>\n",
       "    <tr>\n",
       "      <th>1992-11-25</th>\n",
       "      <td>1467.900024</td>\n",
       "      <td>1467.900024</td>\n",
       "      <td>1467.900024</td>\n",
       "      <td>1467.900024</td>\n",
       "      <td>1467.900024</td>\n",
       "      <td>0</td>\n",
       "    </tr>\n",
       "    <tr>\n",
       "      <th>1992-11-26</th>\n",
       "      <td>1459.000000</td>\n",
       "      <td>1459.000000</td>\n",
       "      <td>1459.000000</td>\n",
       "      <td>1459.000000</td>\n",
       "      <td>1459.000000</td>\n",
       "      <td>0</td>\n",
       "    </tr>\n",
       "    <tr>\n",
       "      <th>1992-11-27</th>\n",
       "      <td>1458.900024</td>\n",
       "      <td>1458.900024</td>\n",
       "      <td>1458.900024</td>\n",
       "      <td>1458.900024</td>\n",
       "      <td>1458.900024</td>\n",
       "      <td>0</td>\n",
       "    </tr>\n",
       "  </tbody>\n",
       "</table>\n",
       "</div>"
      ],
      "text/plain": [
       "                   Open         High          Low        Close    Adj Close  \\\n",
       "Date                                                                          \n",
       "1992-11-23  1455.000000  1455.000000  1455.000000  1455.000000  1455.000000   \n",
       "1992-11-24  1458.400024  1458.400024  1458.400024  1458.400024  1458.400024   \n",
       "1992-11-25  1467.900024  1467.900024  1467.900024  1467.900024  1467.900024   \n",
       "1992-11-26  1459.000000  1459.000000  1459.000000  1459.000000  1459.000000   \n",
       "1992-11-27  1458.900024  1458.900024  1458.900024  1458.900024  1458.900024   \n",
       "\n",
       "            Volume  \n",
       "Date                \n",
       "1992-11-23       0  \n",
       "1992-11-24       0  \n",
       "1992-11-25       0  \n",
       "1992-11-26       0  \n",
       "1992-11-27       0  "
      ]
     },
     "execution_count": 219,
     "metadata": {},
     "output_type": "execute_result"
    }
   ],
   "source": [
    "AUS.head()"
   ]
  },
  {
   "cell_type": "code",
   "execution_count": 220,
   "metadata": {},
   "outputs": [
    {
     "data": {
      "text/html": [
       "<div>\n",
       "<style scoped>\n",
       "    .dataframe tbody tr th:only-of-type {\n",
       "        vertical-align: middle;\n",
       "    }\n",
       "\n",
       "    .dataframe tbody tr th {\n",
       "        vertical-align: top;\n",
       "    }\n",
       "\n",
       "    .dataframe thead th {\n",
       "        text-align: right;\n",
       "    }\n",
       "</style>\n",
       "<table border=\"1\" class=\"dataframe\">\n",
       "  <thead>\n",
       "    <tr style=\"text-align: right;\">\n",
       "      <th></th>\n",
       "      <th>Open</th>\n",
       "      <th>High</th>\n",
       "      <th>Low</th>\n",
       "      <th>Close</th>\n",
       "      <th>Adj Close</th>\n",
       "      <th>Volume</th>\n",
       "    </tr>\n",
       "    <tr>\n",
       "      <th>Date</th>\n",
       "      <th></th>\n",
       "      <th></th>\n",
       "      <th></th>\n",
       "      <th></th>\n",
       "      <th></th>\n",
       "      <th></th>\n",
       "    </tr>\n",
       "  </thead>\n",
       "  <tbody>\n",
       "    <tr>\n",
       "      <th>2024-09-05</th>\n",
       "      <td>7950.500000</td>\n",
       "      <td>7991.799805</td>\n",
       "      <td>7950.500000</td>\n",
       "      <td>7982.399902</td>\n",
       "      <td>7982.399902</td>\n",
       "      <td>796400</td>\n",
       "    </tr>\n",
       "    <tr>\n",
       "      <th>2024-09-06</th>\n",
       "      <td>7982.399902</td>\n",
       "      <td>8030.299805</td>\n",
       "      <td>7982.399902</td>\n",
       "      <td>8013.399902</td>\n",
       "      <td>8013.399902</td>\n",
       "      <td>633300</td>\n",
       "    </tr>\n",
       "    <tr>\n",
       "      <th>2024-09-09</th>\n",
       "      <td>8013.399902</td>\n",
       "      <td>8013.399902</td>\n",
       "      <td>7918.899902</td>\n",
       "      <td>7988.100098</td>\n",
       "      <td>7988.100098</td>\n",
       "      <td>617700</td>\n",
       "    </tr>\n",
       "    <tr>\n",
       "      <th>2024-09-10</th>\n",
       "      <td>7988.100098</td>\n",
       "      <td>8057.899902</td>\n",
       "      <td>7988.100098</td>\n",
       "      <td>8011.899902</td>\n",
       "      <td>8011.899902</td>\n",
       "      <td>660100</td>\n",
       "    </tr>\n",
       "    <tr>\n",
       "      <th>2024-09-11</th>\n",
       "      <td>8011.899902</td>\n",
       "      <td>8024.500000</td>\n",
       "      <td>7963.899902</td>\n",
       "      <td>7987.899902</td>\n",
       "      <td>7987.899902</td>\n",
       "      <td>690000</td>\n",
       "    </tr>\n",
       "  </tbody>\n",
       "</table>\n",
       "</div>"
      ],
      "text/plain": [
       "                   Open         High          Low        Close    Adj Close  \\\n",
       "Date                                                                          \n",
       "2024-09-05  7950.500000  7991.799805  7950.500000  7982.399902  7982.399902   \n",
       "2024-09-06  7982.399902  8030.299805  7982.399902  8013.399902  8013.399902   \n",
       "2024-09-09  8013.399902  8013.399902  7918.899902  7988.100098  7988.100098   \n",
       "2024-09-10  7988.100098  8057.899902  7988.100098  8011.899902  8011.899902   \n",
       "2024-09-11  8011.899902  8024.500000  7963.899902  7987.899902  7987.899902   \n",
       "\n",
       "            Volume  \n",
       "Date                \n",
       "2024-09-05  796400  \n",
       "2024-09-06  633300  \n",
       "2024-09-09  617700  \n",
       "2024-09-10  660100  \n",
       "2024-09-11  690000  "
      ]
     },
     "execution_count": 220,
     "metadata": {},
     "output_type": "execute_result"
    }
   ],
   "source": [
    "AUS.tail()"
   ]
  }
 ],
 "metadata": {
  "kernelspec": {
   "display_name": "Python 3",
   "language": "python",
   "name": "python3"
  },
  "language_info": {
   "codemirror_mode": {
    "name": "ipython",
    "version": 3
   },
   "file_extension": ".py",
   "mimetype": "text/x-python",
   "name": "python",
   "nbconvert_exporter": "python",
   "pygments_lexer": "ipython3",
   "version": "3.10.11"
  }
 },
 "nbformat": 4,
 "nbformat_minor": 2
}
